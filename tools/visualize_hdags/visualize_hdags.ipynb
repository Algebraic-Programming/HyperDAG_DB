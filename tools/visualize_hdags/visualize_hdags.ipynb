{
 "cells": [
  {
   "cell_type": "code",
   "execution_count": null,
   "metadata": {},
   "outputs": [],
   "source": [
    "# Copyright 2022 Huawei Technologies Co., Ltd.\n",
    "\n",
    "# Licensed under the Apache License, Version 2.0 (the \"License\");\n",
    "# you may not use this file except in compliance with the License.\n",
    "# You may obtain a copy of the License at\n",
    "\n",
    "#     http://www.apache.org/licenses/LICENSE-2.0\n",
    "\n",
    "# Unless required by applicable law or agreed to in writing, software\n",
    "# distributed under the License is distributed on an \"AS IS\" BASIS,\n",
    "# WITHOUT WARRANTIES OR CONDITIONS OF ANY KIND, either express or implied.\n",
    "# See the License for the specific language governing permissions and\n",
    "# limitations under the License.\n",
    "\n",
    "# author: Georg Anegg"
   ]
  },
  {
   "cell_type": "code",
   "execution_count": null,
   "metadata": {},
   "outputs": [],
   "source": [
    "filename = 'path/to/file'\n",
    "num_entries = 250 # number of (hyperedge_index, node_index) entries to read"
   ]
  },
  {
   "cell_type": "code",
   "execution_count": null,
   "metadata": {
    "tags": []
   },
   "outputs": [],
   "source": [
    "from collections import defaultdict \n",
    "import networkx as nx\n",
    "import matplotlib.pyplot as plt\n",
    "import hypernetx as hnx"
   ]
  },
  {
   "cell_type": "code",
   "execution_count": null,
   "metadata": {
    "tags": []
   },
   "outputs": [],
   "source": [
    "def read_hdag(filename, num_entries):\n",
    "    counter = 0\n",
    "    data = defaultdict(list)\n",
    "    with open(filename, 'r') as file:\n",
    "        for line in file:\n",
    "            if counter<num_entries and not line.startswith('%') and len(line.split())==2:\n",
    "                counter+=1\n",
    "                net_id, node_id = line.strip().split()\n",
    "                data[net_id].append(node_id)\n",
    "                \n",
    "    if min(len(nodes) for nodes in data.values())<2:\n",
    "        data = {net_id: nodes for net_id, nodes in data.items() if len(nodes)>1}\n",
    "        print(\"There are singleton hyperedges which have been removed.\")\n",
    "    return data"
   ]
  },
  {
   "cell_type": "code",
   "execution_count": null,
   "metadata": {},
   "outputs": [],
   "source": [
    "hdag = read_hdag(filename, num_entries)"
   ]
  },
  {
   "cell_type": "markdown",
   "metadata": {},
   "source": [
    "---\n",
    "# Show DAG"
   ]
  },
  {
   "cell_type": "code",
   "execution_count": null,
   "metadata": {
    "tags": []
   },
   "outputs": [],
   "source": [
    "G = nx.DiGraph()\n",
    "G.add_edges_from([(net[0], net[i]) for net in hdag.values() for i in range(1,len(net))])"
   ]
  },
  {
   "cell_type": "code",
   "execution_count": null,
   "metadata": {
    "tags": []
   },
   "outputs": [],
   "source": [
    "pos = nx.drawing.nx_pydot.graphviz_layout(G, prog='dot') # this will also be used for hypergraphs later"
   ]
  },
  {
   "cell_type": "code",
   "execution_count": null,
   "metadata": {
    "tags": []
   },
   "outputs": [],
   "source": [
    "fig = plt.figure()\n",
    "fig.set_size_inches(25, 10)\n",
    "nx.draw_networkx_nodes(G, pos, node_color='lightblue', node_size=750)\n",
    "nx.draw_networkx_edges(G, pos, edge_color='blue', arrowsize=30)\n",
    "nx.draw_networkx_labels(G, pos, font_size=20)\n",
    "plt.savefig(\"dag.jpg\")\n",
    "plt.show()"
   ]
  },
  {
   "cell_type": "markdown",
   "metadata": {},
   "source": [
    "---\n",
    "# Show HyperDAG (source nodes colored)"
   ]
  },
  {
   "cell_type": "code",
   "execution_count": null,
   "metadata": {
    "tags": []
   },
   "outputs": [],
   "source": [
    "nets = {int(index): tuple(net) for index, net in hdag.items()}\n",
    "H = hnx.Hypergraph(nets)\n",
    "sources = {next(iter(net.elements.items()))[0]: net.uid  for net in H.edges()}\n",
    "# write new attribute source_of to nodes\n",
    "for v in H.nodes():\n",
    "    v.source_of = sources.get(v.uid)"
   ]
  },
  {
   "cell_type": "code",
   "execution_count": null,
   "metadata": {},
   "outputs": [],
   "source": [
    "settings = {\n",
    "    'width': 25,\n",
    "    'height': 10,\n",
    "    'xstretch': 1,\n",
    "    'ystretch': 4,\n",
    "    'net_padding': 0.2,\n",
    "    'source_size': 0.8,\n",
    "    'sink_size': 0.5,\n",
    "}    "
   ]
  },
  {
   "cell_type": "code",
   "execution_count": null,
   "metadata": {
    "tags": []
   },
   "outputs": [],
   "source": [
    "cmap = plt.cm.viridis\n",
    "colors = cmap(plt.Normalize(0, len(hdag))(range(len(hdag))))\n",
    "\n",
    "fig = plt.figure()\n",
    "fig.set_size_inches(settings['width'], settings['height'])\n",
    "\n",
    "hnx.drawing.draw(H,\n",
    "                 pos={key: (settings['xstretch']*x, settings['ystretch']*y) for key, (x,y) in pos.items()}, # use pos from digraph (cannot use graphviz.dot on hypergraphs)\n",
    "                 edges_kwargs={\n",
    "                     'edgecolors': colors,\n",
    "                     'dr': settings['net_padding']\n",
    "                  },\n",
    "                 nodes_kwargs={\n",
    "                    'facecolors': [colors[v.source_of] if v.source_of != None else 'gray' for v in H.nodes()]\n",
    "                  },\n",
    "                 node_radius={\n",
    "                     v.uid: settings['source_size'] if v.uid in sources else settings['sink_size'] for v in H.nodes()\n",
    "                  }\n",
    "                )\n",
    "fig.savefig(\"hyperdag.jpg\")\n",
    "plt.show()"
   ]
  },
  {
   "cell_type": "code",
   "execution_count": null,
   "metadata": {},
   "outputs": [],
   "source": []
  }
 ],
 "metadata": {
  "kernelspec": {
   "display_name": "Python 3",
   "language": "python",
   "name": "python3"
  },
  "language_info": {
   "codemirror_mode": {
    "name": "ipython",
    "version": 3
   },
   "file_extension": ".py",
   "mimetype": "text/x-python",
   "name": "python",
   "nbconvert_exporter": "python",
   "pygments_lexer": "ipython3",
   "version": "3.9.13"
  }
 },
 "nbformat": 4,
 "nbformat_minor": 4
}
